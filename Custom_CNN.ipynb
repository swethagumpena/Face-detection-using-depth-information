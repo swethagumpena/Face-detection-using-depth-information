{
  "nbformat": 4,
  "nbformat_minor": 0,
  "metadata": {
    "colab": {
      "provenance": []
    },
    "kernelspec": {
      "name": "python3",
      "display_name": "Python 3"
    },
    "accelerator": "GPU"
  },
  "cells": [
    {
      "cell_type": "code",
      "metadata": {
        "id": "QqIJTa7aI4qD"
      },
      "source": [
        "from tensorflow import keras \n",
        "from tensorflow.keras import backend as K\n",
        "import tensorflow as tf\n",
        "import numpy as np\n",
        "from PIL import Image , ImageDraw\n",
        "import os\n",
        "import glob\n",
        "from sklearn.model_selection  import train_test_split"
      ],
      "execution_count": null,
      "outputs": []
    },
    {
      "cell_type": "code",
      "metadata": {
        "id": "S4ryIM7wK2C3"
      },
      "source": [
        "input_dim = 228 # Size of the Image \n",
        "images = []\n",
        "image_paths = glob.glob( '/content/drive/My Drive/KINECT V2 IMAGES/new depth images xml/*.bmp' ) # to add images \n",
        "for imagefile in image_paths:\n",
        "    image = Image.open( imagefile ).resize((input_dim,input_dim))\n",
        "    image = np.asarray( image )/255\n",
        "    images.append( image )\n",
        "\n",
        "image_paths = glob.glob( '/content/drive/My Drive/File with negative/Pos/*.bmp' ) # to add images \n",
        "for imagefile in image_paths:\n",
        "    image = Image.open( imagefile ).resize((input_dim,input_dim))\n",
        "    image = np.asarray( image )/255\n",
        "    images.append( image )"
      ],
      "execution_count": null,
      "outputs": []
    },
    {
      "cell_type": "code",
      "metadata": {
        "id": "clO9iKSpTRrj",
        "outputId": "887c59a2-efc9-4c21-ab47-edfd556a36ce",
        "colab": {
          "base_uri": "https://localhost:8080/",
          "height": 34
        }
      },
      "source": [
        "pip install xmltodict"
      ],
      "execution_count": null,
      "outputs": [
        {
          "output_type": "stream",
          "text": [
            "Requirement already satisfied: xmltodict in /usr/local/lib/python3.6/dist-packages (0.12.0)\n"
          ],
          "name": "stdout"
        }
      ]
    },
    {
      "cell_type": "code",
      "metadata": {
        "id": "CYarNr5YOpff",
        "outputId": "9770f02f-47a7-4261-de8d-32a108ad7058",
        "colab": {
          "base_uri": "https://localhost:8080/",
          "height": 51
        }
      },
      "source": [
        "import xmltodict   #library to parse xml files \n",
        "bboxes = []\n",
        "annotations_paths = glob.glob( '/content/drive/My Drive/KINECT V2 IMAGES/new depth images xml/*.xml' ) # to load all the xml files \n",
        "for xmlfile in annotations_paths:\n",
        "    x = xmltodict.parse( open( xmlfile , 'rb' ) )\n",
        "    name = x['annotation']['object']['name']\n",
        "    if(name == \"Face\"):\n",
        "        name1 = 1\n",
        "        bndbox = x[ 'annotation' ][ 'object' ][ 'bndbox' ]\n",
        "        bndbox = np.array([name1,int(bndbox[ 'xmin' ])/512 , int(bndbox[ 'ymin' ])/424, int(bndbox[ 'xmax' ])/512 , int(bndbox[ 'ymax' ])/424 ])\n",
        "    else:\n",
        "        name1 = 0\n",
        "        bndbox = np.array([0,0,0,0,0])\n",
        "    bboxes.append( bndbox ) \n",
        "annotations_paths = glob.glob( '/content/drive/My Drive/File with negative/Pos/*.xml' ) # to load all the xml files \n",
        "for xmlfile in annotations_paths:\n",
        "    x = xmltodict.parse( open( xmlfile , 'rb' ) )\n",
        "    name = x['annotation']['object']['name']\n",
        "    if(name == \"Face\"):\n",
        "        name1 = 1\n",
        "        bndbox = x[ 'annotation' ][ 'object' ][ 'bndbox' ]\n",
        "        bndbox = np.array([name1,int(bndbox[ 'xmin' ])/512 , int(bndbox[ 'ymin' ])/424, int(bndbox[ 'xmax' ])/512 , int(bndbox[ 'ymax' ])/424 ])\n",
        "    else:\n",
        "        name1 = 0\n",
        "        bndbox = np.array([0,0,0,0,0])\n",
        "    bboxes.append( bndbox )    \n",
        "\n",
        "\n",
        "Y = np.array( bboxes )\n",
        "X = np.array( images )\n",
        "Y = np.reshape( Y , ( -1 , 1 , 1 , 5 ) )\n",
        "print( X.shape ) \n",
        "print( Y.shape )\n",
        "x_train, x_test, y_train, y_test = train_test_split( X, Y, test_size=0.1 )  "
      ],
      "execution_count": null,
      "outputs": [
        {
          "output_type": "stream",
          "text": [
            "(217, 228, 228, 3)\n",
            "(217, 1, 1, 5)\n"
          ],
          "name": "stdout"
        }
      ]
    },
    {
      "cell_type": "code",
      "metadata": {
        "id": "zMxx7GGyTMiq"
      },
      "source": [
        "model_layers = [       \n",
        "    keras.layers.Conv2D( 256 , input_shape=( input_dim , input_dim, 3 ) , kernel_size=( 3 , 3 ) , strides=2 , activation='relu' ),\n",
        "    keras.layers.Conv2D( 256 , kernel_size=( 3 , 3 ) , strides=2 , activation='relu' ),\n",
        "    keras.layers.BatchNormalization(),   \n",
        "    keras.layers.Conv2D( 256 , kernel_size=( 3 , 3 ) , strides=1 , activation='relu' ),\n",
        "    keras.layers.Conv2D( 256 , kernel_size=( 3 , 3 ) , strides=1 , activation='relu' ),\n",
        "    keras.layers.BatchNormalization(),\n",
        "    keras.layers.Conv2D( 128 , kernel_size=( 3 , 3 ) , strides=1 , activation='relu' ),\n",
        "    keras.layers.Conv2D( 128 , kernel_size=( 3 , 3 ) , strides=1 , activation='relu' ),\n",
        "    keras.layers.BatchNormalization(),\n",
        "    keras.layers.Conv2D( 128 , kernel_size=( 3 , 3 ) , strides=1 , activation='relu' ),\n",
        "    keras.layers.Conv2D( 128 , kernel_size=( 3 , 3 ) , strides=1 , activation='relu' ),\n",
        "    keras.layers.BatchNormalization(),\n",
        "    keras.layers.Conv2D( 64 , kernel_size=( 3 , 3 ) , strides=1 , activation='relu' ),\n",
        "    keras.layers.Conv2D( 64 , kernel_size=( 3 , 3 ) , strides=1 , activation='relu' ),\n",
        "    keras.layers.BatchNormalization(),\n",
        "    keras.layers.Conv2D( 64 , kernel_size=( 3 , 3 ) , strides=1 , activation='relu' ),\n",
        "    keras.layers.Conv2D( 64 , kernel_size=( 3 , 3 ) , strides=1 , activation='relu' ),\n",
        "    keras.layers.BatchNormalization(),\n",
        "    keras.layers.Conv2D( 32 , kernel_size=( 3 , 3 ) , strides=1 , activation='relu' ),\n",
        "    keras.layers.Conv2D( 32 , kernel_size=( 3 , 3 ) , strides=1 , activation='relu' ),\n",
        "    keras.layers.BatchNormalization(),\n",
        "    keras.layers.Conv2D( 32 , kernel_size=( 3 , 3 ) , strides=1 , activation='relu' ),\n",
        "    keras.layers.Conv2D( 32 , kernel_size=( 3 , 3 ) , strides=1 , activation='relu' ),\n",
        "    keras.layers.BatchNormalization(),\n",
        "    keras.layers.Conv2D( 32 , kernel_size=( 3 , 3 ) , strides=1 , activation='relu' ),\n",
        "    keras.layers.Conv2D( 32 , kernel_size=( 3 , 3 ) , strides=1 , activation='relu' ),\n",
        "\n",
        "    keras.layers.BatchNormalization(),\n",
        "    keras.layers.Conv2D( 32 , kernel_size=( 3 , 3 ) , strides=1 , activation='relu' ),\n",
        "    keras.layers.Conv2D( 32 , kernel_size=( 3 , 3 ) , strides=1 , activation='relu' ),\n",
        "    keras.layers.BatchNormalization(),\n",
        "    keras.layers.Conv2D( 16 , kernel_size=( 3 , 3 ) , strides=2 , activation='relu' ),\n",
        "    keras.layers.Conv2D( 16 , kernel_size=( 3 , 3 ) , strides=1 , activation='relu' ),\n",
        "    keras.layers.Conv2D( 5, kernel_size=( 2 , 2 ) , strides=2, activation='relu' ),\n",
        "    keras.layers.Conv2D( 5 , kernel_size=( 2 , 2 ) , strides=1 , activation='relu' ),\n",
        "    keras.layers.Conv2D( 5 , kernel_size=( 2 , 2 ) , strides=1 , activation='sigmoid' ),\n",
        "]\n",
        "# Use Adam Optimizer \n",
        "model = keras.Sequential( model_layers )"
      ],
      "execution_count": null,
      "outputs": []
    },
    {
      "cell_type": "code",
      "metadata": {
        "id": "SwLF05U5ajy9",
        "outputId": "a0e40bb4-a105-4790-a535-128e839af5ab",
        "colab": {
          "base_uri": "https://localhost:8080/",
          "height": 34
        }
      },
      "source": [
        "model.output"
      ],
      "execution_count": null,
      "outputs": [
        {
          "output_type": "execute_result",
          "data": {
            "text/plain": [
              "<tf.Tensor 'conv2d_49/Sigmoid:0' shape=(None, 1, 1, 5) dtype=float32>"
            ]
          },
          "metadata": {
            "tags": []
          },
          "execution_count": 12
        }
      ]
    },
    {
      "cell_type": "code",
      "metadata": {
        "id": "V5JWFTXfUOKk",
        "outputId": "3a29070c-d40d-4e0b-c4ac-acc547427887",
        "colab": {
          "base_uri": "https://localhost:8080/",
          "height": 1000
        }
      },
      "source": [
        "model.summary() "
      ],
      "execution_count": null,
      "outputs": [
        {
          "output_type": "stream",
          "text": [
            "Model: \"sequential_2\"\n",
            "_________________________________________________________________\n",
            "Layer (type)                 Output Shape              Param #   \n",
            "=================================================================\n",
            "conv2d_50 (Conv2D)           (None, 113, 113, 256)     7168      \n",
            "_________________________________________________________________\n",
            "conv2d_51 (Conv2D)           (None, 56, 56, 256)       590080    \n",
            "_________________________________________________________________\n",
            "batch_normalization_20 (Batc (None, 56, 56, 256)       1024      \n",
            "_________________________________________________________________\n",
            "conv2d_52 (Conv2D)           (None, 54, 54, 256)       590080    \n",
            "_________________________________________________________________\n",
            "conv2d_53 (Conv2D)           (None, 52, 52, 256)       590080    \n",
            "_________________________________________________________________\n",
            "batch_normalization_21 (Batc (None, 52, 52, 256)       1024      \n",
            "_________________________________________________________________\n",
            "conv2d_54 (Conv2D)           (None, 50, 50, 128)       295040    \n",
            "_________________________________________________________________\n",
            "conv2d_55 (Conv2D)           (None, 48, 48, 128)       147584    \n",
            "_________________________________________________________________\n",
            "batch_normalization_22 (Batc (None, 48, 48, 128)       512       \n",
            "_________________________________________________________________\n",
            "conv2d_56 (Conv2D)           (None, 46, 46, 128)       147584    \n",
            "_________________________________________________________________\n",
            "conv2d_57 (Conv2D)           (None, 44, 44, 128)       147584    \n",
            "_________________________________________________________________\n",
            "batch_normalization_23 (Batc (None, 44, 44, 128)       512       \n",
            "_________________________________________________________________\n",
            "conv2d_58 (Conv2D)           (None, 42, 42, 64)        73792     \n",
            "_________________________________________________________________\n",
            "conv2d_59 (Conv2D)           (None, 40, 40, 64)        36928     \n",
            "_________________________________________________________________\n",
            "batch_normalization_24 (Batc (None, 40, 40, 64)        256       \n",
            "_________________________________________________________________\n",
            "conv2d_60 (Conv2D)           (None, 38, 38, 64)        36928     \n",
            "_________________________________________________________________\n",
            "conv2d_61 (Conv2D)           (None, 36, 36, 64)        36928     \n",
            "_________________________________________________________________\n",
            "batch_normalization_25 (Batc (None, 36, 36, 64)        256       \n",
            "_________________________________________________________________\n",
            "conv2d_62 (Conv2D)           (None, 34, 34, 32)        18464     \n",
            "_________________________________________________________________\n",
            "conv2d_63 (Conv2D)           (None, 32, 32, 32)        9248      \n",
            "_________________________________________________________________\n",
            "batch_normalization_26 (Batc (None, 32, 32, 32)        128       \n",
            "_________________________________________________________________\n",
            "conv2d_64 (Conv2D)           (None, 30, 30, 32)        9248      \n",
            "_________________________________________________________________\n",
            "conv2d_65 (Conv2D)           (None, 28, 28, 32)        9248      \n",
            "_________________________________________________________________\n",
            "batch_normalization_27 (Batc (None, 28, 28, 32)        128       \n",
            "_________________________________________________________________\n",
            "conv2d_66 (Conv2D)           (None, 26, 26, 32)        9248      \n",
            "_________________________________________________________________\n",
            "conv2d_67 (Conv2D)           (None, 24, 24, 32)        9248      \n",
            "_________________________________________________________________\n",
            "batch_normalization_28 (Batc (None, 24, 24, 32)        128       \n",
            "_________________________________________________________________\n",
            "conv2d_68 (Conv2D)           (None, 22, 22, 32)        9248      \n",
            "_________________________________________________________________\n",
            "conv2d_69 (Conv2D)           (None, 20, 20, 32)        9248      \n",
            "_________________________________________________________________\n",
            "batch_normalization_29 (Batc (None, 20, 20, 32)        128       \n",
            "_________________________________________________________________\n",
            "conv2d_70 (Conv2D)           (None, 9, 9, 16)          4624      \n",
            "_________________________________________________________________\n",
            "conv2d_71 (Conv2D)           (None, 7, 7, 16)          2320      \n",
            "_________________________________________________________________\n",
            "conv2d_72 (Conv2D)           (None, 3, 3, 5)           325       \n",
            "_________________________________________________________________\n",
            "conv2d_73 (Conv2D)           (None, 2, 2, 5)           105       \n",
            "_________________________________________________________________\n",
            "conv2d_74 (Conv2D)           (None, 1, 1, 5)           105       \n",
            "=================================================================\n",
            "Total params: 2,794,551\n",
            "Trainable params: 2,792,503\n",
            "Non-trainable params: 2,048\n",
            "_________________________________________________________________\n"
          ],
          "name": "stdout"
        }
      ]
    },
    {
      "cell_type": "code",
      "metadata": {
        "id": "QhDx6DHRefmc"
      },
      "source": [
        "def calculate_iou( target_boxes , pred_boxes ):\n",
        "    xA = K.maximum( target_boxes[ ... , 1], pred_boxes[ ... , 1] )\n",
        "    yA = K.maximum( target_boxes[ ... , 2], pred_boxes[ ... , 2] )\n",
        "    xB = K.minimum( target_boxes[ ... , 3], pred_boxes[ ... , 3] )\n",
        "    yB = K.minimum( target_boxes[ ... , 4], pred_boxes[ ... , 4] )\n",
        "    interArea = K.maximum( 0.0 , xB - xA ) * K.maximum( 0.0 , yB - yA )\n",
        "    boxAArea = (target_boxes[ ... , 3] - target_boxes[ ... , 1]) * (target_boxes[ ... , 4] - target_boxes[ ... , 2])\n",
        "    boxBArea = (pred_boxes[ ... , 3] - pred_boxes[ ... , 1]) * (pred_boxes[ ... , 4] - pred_boxes[ ... , 2])\n",
        "    iou = interArea / ( boxAArea + boxBArea - interArea )\n",
        "    return iou\n",
        "\n",
        "def custom_loss( y_true , y_pred ):\n",
        "    mse = tf.losses.mean_squared_error( y_true[...,1:5], y_pred[...,1:5] ) \n",
        "    bce = tf.losses.categorical_crossentropy(y_true[...,0],y_pred[...,0])\n",
        "    iou = calculate_iou( y_true , y_pred ) \n",
        "    return mse + ( 1 - iou )+bce \n",
        "\n",
        "def iou_metric( y_true , y_pred ):\n",
        "    return calculate_iou( y_true , y_pred ) \n",
        "\n"
      ],
      "execution_count": null,
      "outputs": []
    },
    {
      "cell_type": "code",
      "metadata": {
        "id": "Vc5dZ9gaUT9P"
      },
      "source": [
        "model.compile(\n",
        "\toptimizer=keras.optimizers.Adam( lr=0.001 ),\n",
        "\tloss=custom_loss,\n",
        "    metrics=[ iou_metric ]\n",
        ")"
      ],
      "execution_count": null,
      "outputs": []
    },
    {
      "cell_type": "code",
      "metadata": {
        "id": "ULU2ewEnUiA-",
        "outputId": "99927a84-474d-40c8-9c9d-5c4633d70008",
        "colab": {
          "base_uri": "https://localhost:8080/",
          "height": 1000
        }
      },
      "source": [
        "model.fit( \n",
        "    x_train ,\n",
        "    y_train , \n",
        "    validation_data=( x_test , y_test ),\n",
        "    epochs=200,\n",
        ")"
      ],
      "execution_count": null,
      "outputs": [
        {
          "output_type": "stream",
          "text": [
            "Epoch 1/200\n",
            "2/7 [=======>......................] - ETA: 1s - loss: 1.0773 - iou_metric: 0.0000e+00WARNING:tensorflow:Callbacks method `on_train_batch_end` is slow compared to the batch time (batch time: 0.0779s vs `on_train_batch_end` time: 0.1671s). Check your callbacks.\n",
            "7/7 [==============================] - 3s 500ms/step - loss: 1.0565 - iou_metric: 8.1289e-04 - val_loss: 1.0357 - val_iou_metric: 1.3300e-04\n",
            "Epoch 2/200\n",
            "7/7 [==============================] - 2s 217ms/step - loss: 1.0236 - iou_metric: 0.0126 - val_loss: 1.0241 - val_iou_metric: 0.0063\n",
            "Epoch 3/200\n",
            "7/7 [==============================] - 2s 215ms/step - loss: 0.9977 - iou_metric: 0.0341 - val_loss: 1.0023 - val_iou_metric: 0.0346\n",
            "Epoch 4/200\n",
            "7/7 [==============================] - 2s 217ms/step - loss: 0.9273 - iou_metric: 0.1023 - val_loss: 1.0614 - val_iou_metric: 0.0338\n",
            "Epoch 5/200\n",
            "7/7 [==============================] - 2s 217ms/step - loss: 0.8780 - iou_metric: 0.1471 - val_loss: 1.0669 - val_iou_metric: 0.0460\n",
            "Epoch 6/200\n",
            "7/7 [==============================] - 2s 217ms/step - loss: 0.7966 - iou_metric: 0.2255 - val_loss: 1.1301 - val_iou_metric: 0.0294\n",
            "Epoch 7/200\n",
            "7/7 [==============================] - 2s 216ms/step - loss: 0.8194 - iou_metric: 0.2014 - val_loss: 1.1425 - val_iou_metric: 0.0282\n",
            "Epoch 8/200\n",
            "7/7 [==============================] - 2s 218ms/step - loss: 0.7309 - iou_metric: 0.2841 - val_loss: 1.1339 - val_iou_metric: 0.0249\n",
            "Epoch 9/200\n",
            "7/7 [==============================] - 2s 217ms/step - loss: 0.7527 - iou_metric: 0.2627 - val_loss: 1.1195 - val_iou_metric: 0.0301\n",
            "Epoch 10/200\n",
            "7/7 [==============================] - 2s 218ms/step - loss: 0.7215 - iou_metric: 0.2949 - val_loss: 1.0305 - val_iou_metric: 0.0730\n",
            "Epoch 11/200\n",
            "7/7 [==============================] - 2s 219ms/step - loss: 0.7005 - iou_metric: 0.3151 - val_loss: 1.0162 - val_iou_metric: 0.0714\n",
            "Epoch 12/200\n",
            "7/7 [==============================] - 2s 218ms/step - loss: 0.6860 - iou_metric: 0.3286 - val_loss: 1.0380 - val_iou_metric: 0.0642\n",
            "Epoch 13/200\n",
            "7/7 [==============================] - 2s 219ms/step - loss: 0.6597 - iou_metric: 0.3534 - val_loss: 0.9999 - val_iou_metric: 0.0900\n",
            "Epoch 14/200\n",
            "7/7 [==============================] - 2s 220ms/step - loss: 0.6332 - iou_metric: 0.3786 - val_loss: 0.9853 - val_iou_metric: 0.1092\n",
            "Epoch 15/200\n",
            "7/7 [==============================] - 2s 220ms/step - loss: 0.6256 - iou_metric: 0.3861 - val_loss: 0.9330 - val_iou_metric: 0.1379\n",
            "Epoch 16/200\n",
            "7/7 [==============================] - 2s 220ms/step - loss: 0.6296 - iou_metric: 0.3824 - val_loss: 0.9134 - val_iou_metric: 0.1469\n",
            "Epoch 17/200\n",
            "7/7 [==============================] - 2s 220ms/step - loss: 0.6240 - iou_metric: 0.3873 - val_loss: 0.9002 - val_iou_metric: 0.1539\n",
            "Epoch 18/200\n",
            "7/7 [==============================] - 2s 220ms/step - loss: 0.5865 - iou_metric: 0.4239 - val_loss: 0.8552 - val_iou_metric: 0.1857\n",
            "Epoch 19/200\n",
            "7/7 [==============================] - 2s 221ms/step - loss: 0.5840 - iou_metric: 0.4264 - val_loss: 0.8128 - val_iou_metric: 0.2128\n",
            "Epoch 20/200\n",
            "7/7 [==============================] - 2s 220ms/step - loss: 0.5938 - iou_metric: 0.4169 - val_loss: 0.7669 - val_iou_metric: 0.2532\n",
            "Epoch 21/200\n",
            "7/7 [==============================] - 2s 221ms/step - loss: 0.6130 - iou_metric: 0.3977 - val_loss: 0.7017 - val_iou_metric: 0.3154\n",
            "Epoch 22/200\n",
            "7/7 [==============================] - 2s 221ms/step - loss: 0.5731 - iou_metric: 0.4376 - val_loss: 0.8621 - val_iou_metric: 0.1769\n",
            "Epoch 23/200\n",
            "7/7 [==============================] - 2s 222ms/step - loss: 0.5771 - iou_metric: 0.4334 - val_loss: 0.9010 - val_iou_metric: 0.1501\n",
            "Epoch 24/200\n",
            "7/7 [==============================] - 2s 223ms/step - loss: 0.5417 - iou_metric: 0.4673 - val_loss: 0.9234 - val_iou_metric: 0.1342\n",
            "Epoch 25/200\n",
            "7/7 [==============================] - 2s 222ms/step - loss: 0.5422 - iou_metric: 0.4667 - val_loss: 0.8969 - val_iou_metric: 0.1565\n",
            "Epoch 26/200\n",
            "7/7 [==============================] - 2s 222ms/step - loss: 0.5123 - iou_metric: 0.4962 - val_loss: 0.8157 - val_iou_metric: 0.2175\n",
            "Epoch 27/200\n",
            "7/7 [==============================] - 2s 223ms/step - loss: 0.5064 - iou_metric: 0.5017 - val_loss: 0.6519 - val_iou_metric: 0.3582\n",
            "Epoch 28/200\n",
            "7/7 [==============================] - 2s 223ms/step - loss: 0.4922 - iou_metric: 0.5154 - val_loss: 0.6855 - val_iou_metric: 0.3243\n",
            "Epoch 29/200\n",
            "7/7 [==============================] - 2s 224ms/step - loss: 0.4745 - iou_metric: 0.5331 - val_loss: 0.6726 - val_iou_metric: 0.3407\n",
            "Epoch 30/200\n",
            "7/7 [==============================] - 2s 224ms/step - loss: 0.4673 - iou_metric: 0.5399 - val_loss: 0.6277 - val_iou_metric: 0.3828\n",
            "Epoch 31/200\n",
            "7/7 [==============================] - 2s 224ms/step - loss: 0.4624 - iou_metric: 0.5447 - val_loss: 0.7194 - val_iou_metric: 0.2956\n",
            "Epoch 32/200\n",
            "7/7 [==============================] - 2s 225ms/step - loss: 0.4649 - iou_metric: 0.5418 - val_loss: 0.7452 - val_iou_metric: 0.2748\n",
            "Epoch 33/200\n",
            "7/7 [==============================] - 2s 224ms/step - loss: 0.4572 - iou_metric: 0.5491 - val_loss: 0.7181 - val_iou_metric: 0.2997\n",
            "Epoch 34/200\n",
            "7/7 [==============================] - 2s 225ms/step - loss: 0.4488 - iou_metric: 0.5577 - val_loss: 0.6898 - val_iou_metric: 0.3269\n",
            "Epoch 35/200\n",
            "7/7 [==============================] - 2s 226ms/step - loss: 0.4594 - iou_metric: 0.5474 - val_loss: 0.6868 - val_iou_metric: 0.3292\n",
            "Epoch 36/200\n",
            "7/7 [==============================] - 2s 225ms/step - loss: 0.4658 - iou_metric: 0.5404 - val_loss: 0.6829 - val_iou_metric: 0.3325\n",
            "Epoch 37/200\n",
            "7/7 [==============================] - 2s 224ms/step - loss: 0.4816 - iou_metric: 0.5246 - val_loss: 0.6298 - val_iou_metric: 0.3803\n",
            "Epoch 38/200\n",
            "7/7 [==============================] - 2s 227ms/step - loss: 0.4505 - iou_metric: 0.5551 - val_loss: 0.6752 - val_iou_metric: 0.3406\n",
            "Epoch 39/200\n",
            "7/7 [==============================] - 2s 228ms/step - loss: 0.4460 - iou_metric: 0.5600 - val_loss: 0.6747 - val_iou_metric: 0.3422\n",
            "Epoch 40/200\n",
            "7/7 [==============================] - 2s 229ms/step - loss: 0.4342 - iou_metric: 0.5712 - val_loss: 0.6792 - val_iou_metric: 0.3370\n",
            "Epoch 41/200\n",
            "7/7 [==============================] - 2s 227ms/step - loss: 0.4198 - iou_metric: 0.5856 - val_loss: 0.6758 - val_iou_metric: 0.3387\n",
            "Epoch 42/200\n",
            "7/7 [==============================] - 2s 227ms/step - loss: 0.4347 - iou_metric: 0.5710 - val_loss: 0.6571 - val_iou_metric: 0.3557\n",
            "Epoch 43/200\n",
            "7/7 [==============================] - 2s 227ms/step - loss: 0.4097 - iou_metric: 0.5951 - val_loss: 0.6440 - val_iou_metric: 0.3687\n",
            "Epoch 44/200\n",
            "7/7 [==============================] - 2s 227ms/step - loss: 0.4315 - iou_metric: 0.5736 - val_loss: 0.7313 - val_iou_metric: 0.2875\n",
            "Epoch 45/200\n",
            "7/7 [==============================] - 2s 227ms/step - loss: 0.4409 - iou_metric: 0.5642 - val_loss: 0.7200 - val_iou_metric: 0.2978\n",
            "Epoch 46/200\n",
            "7/7 [==============================] - 2s 228ms/step - loss: 0.4141 - iou_metric: 0.5909 - val_loss: 0.6491 - val_iou_metric: 0.3619\n",
            "Epoch 47/200\n",
            "7/7 [==============================] - 2s 229ms/step - loss: 0.3846 - iou_metric: 0.6201 - val_loss: 0.5783 - val_iou_metric: 0.4298\n",
            "Epoch 48/200\n",
            "7/7 [==============================] - 2s 229ms/step - loss: 0.3821 - iou_metric: 0.6225 - val_loss: 0.6284 - val_iou_metric: 0.3830\n",
            "Epoch 49/200\n",
            "7/7 [==============================] - 2s 229ms/step - loss: 0.3791 - iou_metric: 0.6256 - val_loss: 0.5702 - val_iou_metric: 0.4375\n",
            "Epoch 50/200\n",
            "7/7 [==============================] - 2s 230ms/step - loss: 0.4197 - iou_metric: 0.5847 - val_loss: 0.5317 - val_iou_metric: 0.4734\n",
            "Epoch 51/200\n",
            "7/7 [==============================] - 2s 230ms/step - loss: 0.4250 - iou_metric: 0.5799 - val_loss: 0.4700 - val_iou_metric: 0.5338\n",
            "Epoch 52/200\n",
            "7/7 [==============================] - 2s 231ms/step - loss: 0.4075 - iou_metric: 0.5975 - val_loss: 0.4462 - val_iou_metric: 0.5574\n",
            "Epoch 53/200\n",
            "7/7 [==============================] - 2s 230ms/step - loss: 0.4320 - iou_metric: 0.5745 - val_loss: 0.5454 - val_iou_metric: 0.4618\n",
            "Epoch 54/200\n",
            "7/7 [==============================] - 2s 230ms/step - loss: 0.4429 - iou_metric: 0.5633 - val_loss: 0.5884 - val_iou_metric: 0.4209\n",
            "Epoch 55/200\n",
            "7/7 [==============================] - 2s 229ms/step - loss: 0.4191 - iou_metric: 0.5863 - val_loss: 0.5342 - val_iou_metric: 0.4734\n",
            "Epoch 56/200\n",
            "7/7 [==============================] - 2s 229ms/step - loss: 0.4006 - iou_metric: 0.6042 - val_loss: 0.4959 - val_iou_metric: 0.5097\n",
            "Epoch 57/200\n",
            "7/7 [==============================] - 2s 229ms/step - loss: 0.3996 - iou_metric: 0.6050 - val_loss: 0.5450 - val_iou_metric: 0.4605\n",
            "Epoch 58/200\n",
            "7/7 [==============================] - 2s 231ms/step - loss: 0.3852 - iou_metric: 0.6196 - val_loss: 0.5004 - val_iou_metric: 0.5048\n",
            "Epoch 59/200\n",
            "7/7 [==============================] - 2s 230ms/step - loss: 0.3963 - iou_metric: 0.6085 - val_loss: 0.4007 - val_iou_metric: 0.6032\n",
            "Epoch 60/200\n",
            "7/7 [==============================] - 2s 231ms/step - loss: 0.3748 - iou_metric: 0.6295 - val_loss: 0.5598 - val_iou_metric: 0.4493\n",
            "Epoch 61/200\n",
            "7/7 [==============================] - 2s 231ms/step - loss: 0.3846 - iou_metric: 0.6197 - val_loss: 0.4486 - val_iou_metric: 0.5558\n",
            "Epoch 62/200\n",
            "7/7 [==============================] - 2s 231ms/step - loss: 0.3884 - iou_metric: 0.6155 - val_loss: 0.4866 - val_iou_metric: 0.5192\n",
            "Epoch 63/200\n",
            "7/7 [==============================] - 2s 232ms/step - loss: 0.3815 - iou_metric: 0.6227 - val_loss: 0.5226 - val_iou_metric: 0.4841\n",
            "Epoch 64/200\n",
            "7/7 [==============================] - 2s 232ms/step - loss: 0.3915 - iou_metric: 0.6132 - val_loss: 0.5301 - val_iou_metric: 0.4772\n",
            "Epoch 65/200\n",
            "7/7 [==============================] - 2s 233ms/step - loss: 0.3702 - iou_metric: 0.6341 - val_loss: 0.4820 - val_iou_metric: 0.5242\n",
            "Epoch 66/200\n",
            "7/7 [==============================] - 2s 233ms/step - loss: 0.3472 - iou_metric: 0.6569 - val_loss: 0.4739 - val_iou_metric: 0.5307\n",
            "Epoch 67/200\n",
            "7/7 [==============================] - 2s 232ms/step - loss: 0.3660 - iou_metric: 0.6381 - val_loss: 0.3809 - val_iou_metric: 0.6221\n",
            "Epoch 68/200\n",
            "7/7 [==============================] - 2s 233ms/step - loss: 0.3387 - iou_metric: 0.6649 - val_loss: 0.4350 - val_iou_metric: 0.5687\n",
            "Epoch 69/200\n",
            "7/7 [==============================] - 2s 233ms/step - loss: 0.3403 - iou_metric: 0.6635 - val_loss: 0.4194 - val_iou_metric: 0.5840\n",
            "Epoch 70/200\n",
            "7/7 [==============================] - 2s 233ms/step - loss: 0.3213 - iou_metric: 0.6821 - val_loss: 0.3562 - val_iou_metric: 0.6462\n",
            "Epoch 71/200\n",
            "7/7 [==============================] - 2s 232ms/step - loss: 0.3496 - iou_metric: 0.6543 - val_loss: 0.4260 - val_iou_metric: 0.5776\n",
            "Epoch 72/200\n",
            "7/7 [==============================] - 2s 234ms/step - loss: 0.3617 - iou_metric: 0.6420 - val_loss: 0.5479 - val_iou_metric: 0.4592\n",
            "Epoch 73/200\n",
            "7/7 [==============================] - 2s 234ms/step - loss: 0.3400 - iou_metric: 0.6637 - val_loss: 0.3983 - val_iou_metric: 0.6044\n",
            "Epoch 74/200\n",
            "7/7 [==============================] - 2s 236ms/step - loss: 0.3504 - iou_metric: 0.6532 - val_loss: 0.3694 - val_iou_metric: 0.6330\n",
            "Epoch 75/200\n",
            "7/7 [==============================] - 2s 235ms/step - loss: 0.3319 - iou_metric: 0.6716 - val_loss: 0.3743 - val_iou_metric: 0.6281\n",
            "Epoch 76/200\n",
            "7/7 [==============================] - 2s 233ms/step - loss: 0.3297 - iou_metric: 0.6739 - val_loss: 0.3807 - val_iou_metric: 0.6218\n",
            "Epoch 77/200\n",
            "7/7 [==============================] - 2s 234ms/step - loss: 0.3347 - iou_metric: 0.6690 - val_loss: 0.3900 - val_iou_metric: 0.6128\n",
            "Epoch 78/200\n",
            "7/7 [==============================] - 2s 235ms/step - loss: 0.3329 - iou_metric: 0.6707 - val_loss: 0.4230 - val_iou_metric: 0.5803\n",
            "Epoch 79/200\n",
            "7/7 [==============================] - 2s 234ms/step - loss: 0.3346 - iou_metric: 0.6689 - val_loss: 0.4134 - val_iou_metric: 0.5892\n",
            "Epoch 80/200\n",
            "7/7 [==============================] - 2s 234ms/step - loss: 0.3562 - iou_metric: 0.6477 - val_loss: 0.3822 - val_iou_metric: 0.6199\n",
            "Epoch 81/200\n",
            "7/7 [==============================] - 2s 235ms/step - loss: 0.3502 - iou_metric: 0.6538 - val_loss: 0.4765 - val_iou_metric: 0.5279\n",
            "Epoch 82/200\n",
            "7/7 [==============================] - 2s 233ms/step - loss: 0.3307 - iou_metric: 0.6730 - val_loss: 0.4236 - val_iou_metric: 0.5798\n",
            "Epoch 83/200\n",
            "7/7 [==============================] - 2s 232ms/step - loss: 0.3179 - iou_metric: 0.6853 - val_loss: 0.4425 - val_iou_metric: 0.5614\n",
            "Epoch 84/200\n",
            "7/7 [==============================] - 2s 234ms/step - loss: 0.3234 - iou_metric: 0.6802 - val_loss: 0.4196 - val_iou_metric: 0.5840\n",
            "Epoch 85/200\n",
            "7/7 [==============================] - 2s 233ms/step - loss: 0.3139 - iou_metric: 0.6894 - val_loss: 0.4044 - val_iou_metric: 0.5990\n",
            "Epoch 86/200\n",
            "7/7 [==============================] - 2s 233ms/step - loss: 0.3163 - iou_metric: 0.6872 - val_loss: 0.3644 - val_iou_metric: 0.6386\n",
            "Epoch 87/200\n",
            "7/7 [==============================] - 2s 234ms/step - loss: 0.3099 - iou_metric: 0.6935 - val_loss: 0.3955 - val_iou_metric: 0.6077\n",
            "Epoch 88/200\n",
            "7/7 [==============================] - 2s 233ms/step - loss: 0.3131 - iou_metric: 0.6907 - val_loss: 0.4076 - val_iou_metric: 0.5952\n",
            "Epoch 89/200\n",
            "7/7 [==============================] - 2s 230ms/step - loss: 0.3023 - iou_metric: 0.7011 - val_loss: 0.4989 - val_iou_metric: 0.5064\n",
            "Epoch 90/200\n",
            "7/7 [==============================] - 2s 232ms/step - loss: 0.3068 - iou_metric: 0.6965 - val_loss: 0.4744 - val_iou_metric: 0.5304\n",
            "Epoch 91/200\n",
            "7/7 [==============================] - 2s 232ms/step - loss: 0.3452 - iou_metric: 0.6582 - val_loss: 0.4025 - val_iou_metric: 0.6013\n",
            "Epoch 92/200\n",
            "7/7 [==============================] - 2s 232ms/step - loss: 0.3310 - iou_metric: 0.6722 - val_loss: 0.3993 - val_iou_metric: 0.6043\n",
            "Epoch 93/200\n",
            "7/7 [==============================] - 2s 233ms/step - loss: 0.3249 - iou_metric: 0.6786 - val_loss: 0.3563 - val_iou_metric: 0.6460\n",
            "Epoch 94/200\n",
            "7/7 [==============================] - 2s 233ms/step - loss: 0.3450 - iou_metric: 0.6587 - val_loss: 0.3893 - val_iou_metric: 0.6138\n",
            "Epoch 95/200\n",
            "7/7 [==============================] - 2s 232ms/step - loss: 0.3457 - iou_metric: 0.6580 - val_loss: 0.5421 - val_iou_metric: 0.4647\n",
            "Epoch 96/200\n",
            "7/7 [==============================] - 2s 232ms/step - loss: 0.3861 - iou_metric: 0.6177 - val_loss: 0.4581 - val_iou_metric: 0.5462\n",
            "Epoch 97/200\n",
            "7/7 [==============================] - 2s 231ms/step - loss: 0.3692 - iou_metric: 0.6348 - val_loss: 0.4268 - val_iou_metric: 0.5763\n",
            "Epoch 98/200\n",
            "7/7 [==============================] - 2s 233ms/step - loss: 0.3444 - iou_metric: 0.6592 - val_loss: 0.4286 - val_iou_metric: 0.5757\n",
            "Epoch 99/200\n",
            "7/7 [==============================] - 2s 234ms/step - loss: 0.3284 - iou_metric: 0.6750 - val_loss: 0.4315 - val_iou_metric: 0.5738\n",
            "Epoch 100/200\n",
            "7/7 [==============================] - 2s 233ms/step - loss: 0.3080 - iou_metric: 0.6954 - val_loss: 0.4164 - val_iou_metric: 0.5875\n",
            "Epoch 101/200\n",
            "7/7 [==============================] - 2s 232ms/step - loss: 0.3030 - iou_metric: 0.7000 - val_loss: 0.4256 - val_iou_metric: 0.5777\n",
            "Epoch 102/200\n",
            "7/7 [==============================] - 2s 232ms/step - loss: 0.2904 - iou_metric: 0.7126 - val_loss: 0.3663 - val_iou_metric: 0.6364\n",
            "Epoch 103/200\n",
            "7/7 [==============================] - 2s 232ms/step - loss: 0.3007 - iou_metric: 0.7024 - val_loss: 0.4443 - val_iou_metric: 0.5605\n",
            "Epoch 104/200\n",
            "7/7 [==============================] - 2s 233ms/step - loss: 0.2822 - iou_metric: 0.7208 - val_loss: 0.4322 - val_iou_metric: 0.5718\n",
            "Epoch 105/200\n",
            "7/7 [==============================] - 2s 232ms/step - loss: 0.3064 - iou_metric: 0.6966 - val_loss: 0.4956 - val_iou_metric: 0.5103\n",
            "Epoch 106/200\n",
            "7/7 [==============================] - 2s 233ms/step - loss: 0.2982 - iou_metric: 0.7046 - val_loss: 0.4882 - val_iou_metric: 0.5178\n",
            "Epoch 107/200\n",
            "7/7 [==============================] - 2s 232ms/step - loss: 0.3187 - iou_metric: 0.6842 - val_loss: 0.3699 - val_iou_metric: 0.6333\n",
            "Epoch 108/200\n",
            "7/7 [==============================] - 2s 232ms/step - loss: 0.2975 - iou_metric: 0.7053 - val_loss: 0.4234 - val_iou_metric: 0.5806\n",
            "Epoch 109/200\n",
            "7/7 [==============================] - 2s 233ms/step - loss: 0.3085 - iou_metric: 0.6947 - val_loss: 0.5136 - val_iou_metric: 0.4915\n",
            "Epoch 110/200\n",
            "7/7 [==============================] - 2s 231ms/step - loss: 0.3213 - iou_metric: 0.6819 - val_loss: 0.3756 - val_iou_metric: 0.6272\n",
            "Epoch 111/200\n",
            "7/7 [==============================] - 2s 233ms/step - loss: 0.3262 - iou_metric: 0.6775 - val_loss: 0.3986 - val_iou_metric: 0.6041\n",
            "Epoch 112/200\n",
            "7/7 [==============================] - 2s 233ms/step - loss: 0.3158 - iou_metric: 0.6873 - val_loss: 0.4058 - val_iou_metric: 0.5974\n",
            "Epoch 113/200\n",
            "7/7 [==============================] - 2s 231ms/step - loss: 0.3120 - iou_metric: 0.6907 - val_loss: 0.6013 - val_iou_metric: 0.4114\n",
            "Epoch 114/200\n",
            "7/7 [==============================] - 2s 233ms/step - loss: 0.3181 - iou_metric: 0.6851 - val_loss: 0.5371 - val_iou_metric: 0.4703\n",
            "Epoch 115/200\n",
            "7/7 [==============================] - 2s 232ms/step - loss: 0.2954 - iou_metric: 0.7075 - val_loss: 0.4529 - val_iou_metric: 0.5513\n",
            "Epoch 116/200\n",
            "7/7 [==============================] - 2s 231ms/step - loss: 0.3113 - iou_metric: 0.6921 - val_loss: 0.3395 - val_iou_metric: 0.6636\n",
            "Epoch 117/200\n",
            "7/7 [==============================] - 2s 232ms/step - loss: 0.3481 - iou_metric: 0.6555 - val_loss: 0.4276 - val_iou_metric: 0.5765\n",
            "Epoch 118/200\n",
            "7/7 [==============================] - 2s 233ms/step - loss: 0.3360 - iou_metric: 0.6673 - val_loss: 0.4928 - val_iou_metric: 0.5126\n",
            "Epoch 119/200\n",
            "7/7 [==============================] - 2s 231ms/step - loss: 0.2930 - iou_metric: 0.7097 - val_loss: 0.5494 - val_iou_metric: 0.4586\n",
            "Epoch 120/200\n",
            "7/7 [==============================] - 2s 232ms/step - loss: 0.2849 - iou_metric: 0.7177 - val_loss: 0.5323 - val_iou_metric: 0.4746\n",
            "Epoch 121/200\n",
            "7/7 [==============================] - 2s 232ms/step - loss: 0.2997 - iou_metric: 0.7030 - val_loss: 0.4565 - val_iou_metric: 0.5484\n",
            "Epoch 122/200\n",
            "7/7 [==============================] - 2s 232ms/step - loss: 0.2952 - iou_metric: 0.7072 - val_loss: 0.4322 - val_iou_metric: 0.5717\n",
            "Epoch 123/200\n",
            "7/7 [==============================] - 2s 233ms/step - loss: 0.2817 - iou_metric: 0.7209 - val_loss: 0.4822 - val_iou_metric: 0.5224\n",
            "Epoch 124/200\n",
            "7/7 [==============================] - 2s 232ms/step - loss: 0.2683 - iou_metric: 0.7344 - val_loss: 0.4224 - val_iou_metric: 0.5806\n",
            "Epoch 125/200\n",
            "7/7 [==============================] - 2s 233ms/step - loss: 0.2706 - iou_metric: 0.7321 - val_loss: 0.3879 - val_iou_metric: 0.6155\n",
            "Epoch 126/200\n",
            "7/7 [==============================] - 2s 233ms/step - loss: 0.2560 - iou_metric: 0.7463 - val_loss: 0.3424 - val_iou_metric: 0.6606\n",
            "Epoch 127/200\n",
            "7/7 [==============================] - 2s 234ms/step - loss: 0.2600 - iou_metric: 0.7425 - val_loss: 0.3845 - val_iou_metric: 0.6186\n",
            "Epoch 128/200\n",
            "7/7 [==============================] - 2s 233ms/step - loss: 0.2509 - iou_metric: 0.7517 - val_loss: 0.4325 - val_iou_metric: 0.5717\n",
            "Epoch 129/200\n",
            "7/7 [==============================] - 2s 232ms/step - loss: 0.2637 - iou_metric: 0.7389 - val_loss: 0.3783 - val_iou_metric: 0.6255\n",
            "Epoch 130/200\n",
            "7/7 [==============================] - 2s 233ms/step - loss: 0.2679 - iou_metric: 0.7347 - val_loss: 0.3467 - val_iou_metric: 0.6570\n",
            "Epoch 131/200\n",
            "7/7 [==============================] - 2s 232ms/step - loss: 0.2750 - iou_metric: 0.7276 - val_loss: 0.3825 - val_iou_metric: 0.6206\n",
            "Epoch 132/200\n",
            "7/7 [==============================] - 2s 233ms/step - loss: 0.2704 - iou_metric: 0.7322 - val_loss: 0.3729 - val_iou_metric: 0.6298\n",
            "Epoch 133/200\n",
            "7/7 [==============================] - 2s 232ms/step - loss: 0.2840 - iou_metric: 0.7187 - val_loss: 0.4606 - val_iou_metric: 0.5440\n",
            "Epoch 134/200\n",
            "7/7 [==============================] - 2s 234ms/step - loss: 0.2795 - iou_metric: 0.7232 - val_loss: 0.4633 - val_iou_metric: 0.5411\n",
            "Epoch 135/200\n",
            "7/7 [==============================] - 2s 232ms/step - loss: 0.2717 - iou_metric: 0.7309 - val_loss: 0.3480 - val_iou_metric: 0.6548\n",
            "Epoch 136/200\n",
            "7/7 [==============================] - 2s 235ms/step - loss: 0.2847 - iou_metric: 0.7179 - val_loss: 0.4812 - val_iou_metric: 0.5239\n",
            "Epoch 137/200\n",
            "7/7 [==============================] - 2s 231ms/step - loss: 0.2720 - iou_metric: 0.7306 - val_loss: 0.3945 - val_iou_metric: 0.6084\n",
            "Epoch 138/200\n",
            "7/7 [==============================] - 2s 233ms/step - loss: 0.2828 - iou_metric: 0.7197 - val_loss: 0.4843 - val_iou_metric: 0.5208\n",
            "Epoch 139/200\n",
            "7/7 [==============================] - 2s 232ms/step - loss: 0.2845 - iou_metric: 0.7182 - val_loss: 0.3708 - val_iou_metric: 0.6325\n",
            "Epoch 140/200\n",
            "7/7 [==============================] - 2s 233ms/step - loss: 0.2935 - iou_metric: 0.7098 - val_loss: 0.3899 - val_iou_metric: 0.6136\n",
            "Epoch 141/200\n",
            "7/7 [==============================] - 2s 234ms/step - loss: 0.3225 - iou_metric: 0.6817 - val_loss: 0.3868 - val_iou_metric: 0.6172\n",
            "Epoch 142/200\n",
            "7/7 [==============================] - 2s 234ms/step - loss: 0.3039 - iou_metric: 0.7001 - val_loss: 0.3509 - val_iou_metric: 0.6522\n",
            "Epoch 143/200\n",
            "7/7 [==============================] - 2s 234ms/step - loss: 0.2861 - iou_metric: 0.7174 - val_loss: 0.3559 - val_iou_metric: 0.6467\n",
            "Epoch 144/200\n",
            "7/7 [==============================] - 2s 234ms/step - loss: 0.2761 - iou_metric: 0.7269 - val_loss: 0.3974 - val_iou_metric: 0.6057\n",
            "Epoch 145/200\n",
            "7/7 [==============================] - 2s 233ms/step - loss: 0.2739 - iou_metric: 0.7292 - val_loss: 0.4205 - val_iou_metric: 0.5831\n",
            "Epoch 146/200\n",
            "7/7 [==============================] - 2s 233ms/step - loss: 0.2604 - iou_metric: 0.7424 - val_loss: 0.4187 - val_iou_metric: 0.5855\n",
            "Epoch 147/200\n",
            "7/7 [==============================] - 2s 233ms/step - loss: 0.2755 - iou_metric: 0.7276 - val_loss: 0.4227 - val_iou_metric: 0.5809\n",
            "Epoch 148/200\n",
            "7/7 [==============================] - 2s 234ms/step - loss: 0.2775 - iou_metric: 0.7254 - val_loss: 0.6087 - val_iou_metric: 0.4015\n",
            "Epoch 149/200\n",
            "7/7 [==============================] - 2s 233ms/step - loss: 0.3413 - iou_metric: 0.6622 - val_loss: 0.6186 - val_iou_metric: 0.3932\n",
            "Epoch 150/200\n",
            "7/7 [==============================] - 2s 235ms/step - loss: 0.3170 - iou_metric: 0.6862 - val_loss: 0.4699 - val_iou_metric: 0.5365\n",
            "Epoch 151/200\n",
            "7/7 [==============================] - 2s 233ms/step - loss: 0.3106 - iou_metric: 0.6925 - val_loss: 0.4202 - val_iou_metric: 0.5836\n",
            "Epoch 152/200\n",
            "7/7 [==============================] - 2s 233ms/step - loss: 0.2997 - iou_metric: 0.7037 - val_loss: 0.4945 - val_iou_metric: 0.5116\n",
            "Epoch 153/200\n",
            "7/7 [==============================] - 2s 231ms/step - loss: 0.2978 - iou_metric: 0.7054 - val_loss: 0.6579 - val_iou_metric: 0.3597\n",
            "Epoch 154/200\n",
            "7/7 [==============================] - 2s 232ms/step - loss: 0.2874 - iou_metric: 0.7158 - val_loss: 0.6752 - val_iou_metric: 0.3443\n",
            "Epoch 155/200\n",
            "7/7 [==============================] - 2s 231ms/step - loss: 0.2833 - iou_metric: 0.7199 - val_loss: 0.5793 - val_iou_metric: 0.4317\n",
            "Epoch 156/200\n",
            "7/7 [==============================] - 2s 232ms/step - loss: 0.2664 - iou_metric: 0.7368 - val_loss: 0.5368 - val_iou_metric: 0.4713\n",
            "Epoch 157/200\n",
            "7/7 [==============================] - 2s 233ms/step - loss: 0.2628 - iou_metric: 0.7399 - val_loss: 0.5393 - val_iou_metric: 0.4702\n",
            "Epoch 158/200\n",
            "7/7 [==============================] - 2s 231ms/step - loss: 0.2669 - iou_metric: 0.7358 - val_loss: 0.6299 - val_iou_metric: 0.3839\n",
            "Epoch 159/200\n",
            "7/7 [==============================] - 2s 232ms/step - loss: 0.2888 - iou_metric: 0.7138 - val_loss: 0.5982 - val_iou_metric: 0.4126\n",
            "Epoch 160/200\n",
            "7/7 [==============================] - 2s 234ms/step - loss: 0.2800 - iou_metric: 0.7225 - val_loss: 0.5879 - val_iou_metric: 0.4225\n",
            "Epoch 161/200\n",
            "7/7 [==============================] - 2s 231ms/step - loss: 0.2762 - iou_metric: 0.7263 - val_loss: 0.6631 - val_iou_metric: 0.3561\n",
            "Epoch 162/200\n",
            "7/7 [==============================] - 2s 232ms/step - loss: 0.2844 - iou_metric: 0.7184 - val_loss: 0.5441 - val_iou_metric: 0.4649\n",
            "Epoch 163/200\n",
            "7/7 [==============================] - 2s 232ms/step - loss: 0.2633 - iou_metric: 0.7394 - val_loss: 0.4340 - val_iou_metric: 0.5710\n",
            "Epoch 164/200\n",
            "7/7 [==============================] - 2s 233ms/step - loss: 0.2722 - iou_metric: 0.7311 - val_loss: 0.4200 - val_iou_metric: 0.5839\n",
            "Epoch 165/200\n",
            "7/7 [==============================] - 2s 232ms/step - loss: 0.2712 - iou_metric: 0.7315 - val_loss: 0.3727 - val_iou_metric: 0.6301\n",
            "Epoch 166/200\n",
            "7/7 [==============================] - 2s 234ms/step - loss: 0.2619 - iou_metric: 0.7409 - val_loss: 0.3407 - val_iou_metric: 0.6623\n",
            "Epoch 167/200\n",
            "7/7 [==============================] - 2s 233ms/step - loss: 0.2524 - iou_metric: 0.7500 - val_loss: 0.3780 - val_iou_metric: 0.6254\n",
            "Epoch 168/200\n",
            "7/7 [==============================] - 2s 231ms/step - loss: 0.3173 - iou_metric: 0.6863 - val_loss: 0.6447 - val_iou_metric: 0.3666\n",
            "Epoch 169/200\n",
            "7/7 [==============================] - 2s 231ms/step - loss: 0.3514 - iou_metric: 0.6526 - val_loss: 0.5979 - val_iou_metric: 0.4126\n",
            "Epoch 170/200\n",
            "7/7 [==============================] - 2s 232ms/step - loss: 0.3129 - iou_metric: 0.6903 - val_loss: 0.5288 - val_iou_metric: 0.4799\n",
            "Epoch 171/200\n",
            "7/7 [==============================] - 2s 233ms/step - loss: 0.2914 - iou_metric: 0.7115 - val_loss: 0.5663 - val_iou_metric: 0.4431\n",
            "Epoch 172/200\n",
            "7/7 [==============================] - 2s 233ms/step - loss: 0.2764 - iou_metric: 0.7262 - val_loss: 0.5097 - val_iou_metric: 0.4982\n",
            "Epoch 173/200\n",
            "7/7 [==============================] - 2s 233ms/step - loss: 0.2774 - iou_metric: 0.7253 - val_loss: 0.5194 - val_iou_metric: 0.4890\n",
            "Epoch 174/200\n",
            "7/7 [==============================] - 2s 231ms/step - loss: 0.2793 - iou_metric: 0.7233 - val_loss: 0.4432 - val_iou_metric: 0.5631\n",
            "Epoch 175/200\n",
            "7/7 [==============================] - 2s 232ms/step - loss: 0.2593 - iou_metric: 0.7431 - val_loss: 0.4367 - val_iou_metric: 0.5685\n",
            "Epoch 176/200\n",
            "7/7 [==============================] - 2s 233ms/step - loss: 0.2546 - iou_metric: 0.7479 - val_loss: 0.3615 - val_iou_metric: 0.6427\n",
            "Epoch 177/200\n",
            "7/7 [==============================] - 2s 232ms/step - loss: 0.2633 - iou_metric: 0.7391 - val_loss: 0.3464 - val_iou_metric: 0.6572\n",
            "Epoch 178/200\n",
            "7/7 [==============================] - 2s 235ms/step - loss: 0.2592 - iou_metric: 0.7434 - val_loss: 0.3686 - val_iou_metric: 0.6350\n",
            "Epoch 179/200\n",
            "7/7 [==============================] - 2s 234ms/step - loss: 0.2459 - iou_metric: 0.7565 - val_loss: 0.4532 - val_iou_metric: 0.5507\n",
            "Epoch 180/200\n",
            "7/7 [==============================] - 2s 232ms/step - loss: 0.2446 - iou_metric: 0.7577 - val_loss: 0.4185 - val_iou_metric: 0.5857\n",
            "Epoch 181/200\n",
            "7/7 [==============================] - 2s 233ms/step - loss: 0.2377 - iou_metric: 0.7645 - val_loss: 0.3412 - val_iou_metric: 0.6620\n",
            "Epoch 182/200\n",
            "7/7 [==============================] - 2s 232ms/step - loss: 0.2831 - iou_metric: 0.7195 - val_loss: 0.4143 - val_iou_metric: 0.5891\n",
            "Epoch 183/200\n",
            "7/7 [==============================] - 2s 232ms/step - loss: 0.2789 - iou_metric: 0.7236 - val_loss: 0.3785 - val_iou_metric: 0.6258\n",
            "Epoch 184/200\n",
            "7/7 [==============================] - 2s 234ms/step - loss: 0.2643 - iou_metric: 0.7381 - val_loss: 0.4175 - val_iou_metric: 0.5865\n",
            "Epoch 185/200\n",
            "7/7 [==============================] - 2s 232ms/step - loss: 0.2408 - iou_metric: 0.7614 - val_loss: 0.3737 - val_iou_metric: 0.6297\n",
            "Epoch 186/200\n",
            "7/7 [==============================] - 2s 233ms/step - loss: 0.2482 - iou_metric: 0.7542 - val_loss: 0.3821 - val_iou_metric: 0.6211\n",
            "Epoch 187/200\n",
            "7/7 [==============================] - 2s 232ms/step - loss: 0.2425 - iou_metric: 0.7598 - val_loss: 0.4069 - val_iou_metric: 0.5970\n",
            "Epoch 188/200\n",
            "7/7 [==============================] - 2s 233ms/step - loss: 0.2482 - iou_metric: 0.7542 - val_loss: 0.3969 - val_iou_metric: 0.6065\n",
            "Epoch 189/200\n",
            "7/7 [==============================] - 2s 233ms/step - loss: 0.2460 - iou_metric: 0.7563 - val_loss: 0.4538 - val_iou_metric: 0.5508\n",
            "Epoch 190/200\n",
            "7/7 [==============================] - 2s 234ms/step - loss: 0.2649 - iou_metric: 0.7376 - val_loss: 0.4289 - val_iou_metric: 0.5753\n",
            "Epoch 191/200\n",
            "7/7 [==============================] - 2s 234ms/step - loss: 0.2674 - iou_metric: 0.7349 - val_loss: 0.4405 - val_iou_metric: 0.5636\n",
            "Epoch 192/200\n",
            "7/7 [==============================] - 2s 234ms/step - loss: 0.2484 - iou_metric: 0.7540 - val_loss: 0.3630 - val_iou_metric: 0.6395\n",
            "Epoch 193/200\n",
            "7/7 [==============================] - 2s 233ms/step - loss: 0.2578 - iou_metric: 0.7446 - val_loss: 0.4493 - val_iou_metric: 0.5540\n",
            "Epoch 194/200\n",
            "7/7 [==============================] - 2s 231ms/step - loss: 0.2660 - iou_metric: 0.7366 - val_loss: 0.3553 - val_iou_metric: 0.6478\n",
            "Epoch 195/200\n",
            "7/7 [==============================] - 2s 232ms/step - loss: 0.2767 - iou_metric: 0.7260 - val_loss: 0.3982 - val_iou_metric: 0.6044\n",
            "Epoch 196/200\n",
            "7/7 [==============================] - 2s 233ms/step - loss: 0.2484 - iou_metric: 0.7541 - val_loss: 0.3305 - val_iou_metric: 0.6724\n",
            "Epoch 197/200\n",
            "7/7 [==============================] - 2s 232ms/step - loss: 0.2434 - iou_metric: 0.7590 - val_loss: 0.3490 - val_iou_metric: 0.6540\n",
            "Epoch 198/200\n",
            "7/7 [==============================] - 2s 233ms/step - loss: 0.2305 - iou_metric: 0.7718 - val_loss: 0.3426 - val_iou_metric: 0.6601\n",
            "Epoch 199/200\n",
            "7/7 [==============================] - 2s 233ms/step - loss: 0.2044 - iou_metric: 0.7977 - val_loss: 0.3377 - val_iou_metric: 0.6648\n",
            "Epoch 200/200\n",
            "7/7 [==============================] - 2s 232ms/step - loss: 0.2196 - iou_metric: 0.7828 - val_loss: 0.3906 - val_iou_metric: 0.6127\n"
          ],
          "name": "stdout"
        },
        {
          "output_type": "execute_result",
          "data": {
            "text/plain": [
              "<tensorflow.python.keras.callbacks.History at 0x7f08c882cc88>"
            ]
          },
          "metadata": {
            "tags": []
          },
          "execution_count": 36
        }
      ]
    },
    {
      "cell_type": "code",
      "metadata": {
        "id": "VlLiA92pK6I1"
      },
      "source": [
        "model.save('/content/drive/My Drive/depth.h5')"
      ],
      "execution_count": null,
      "outputs": []
    },
    {
      "cell_type": "code",
      "metadata": {
        "id": "RLi7q_VgUnLj"
      },
      "source": [
        "boxes = model.predict(x_test)"
      ],
      "execution_count": null,
      "outputs": []
    },
    {
      "cell_type": "code",
      "metadata": {
        "id": "EcFABu9FbEOY",
        "outputId": "b4e99e74-cba7-42a2-b249-caa10dda9993",
        "colab": {
          "base_uri": "https://localhost:8080/",
          "height": 34
        }
      },
      "source": [
        "boxes.shape"
      ],
      "execution_count": null,
      "outputs": [
        {
          "output_type": "execute_result",
          "data": {
            "text/plain": [
              "(22, 1, 1, 5)"
            ]
          },
          "metadata": {
            "tags": []
          },
          "execution_count": 41
        }
      ]
    },
    {
      "cell_type": "code",
      "metadata": {
        "id": "sNh7LUP8VqC9"
      },
      "source": [
        "for i in range(10):\n",
        "    b = boxes[ i , 0 , 0 , 1 : 5 ] * input_dim\n",
        "    img = x_test[i] * 255\n",
        "    source_img = Image.fromarray( img.astype( np.uint8 ) , 'RGB' )\n",
        "    draw = ImageDraw.Draw( source_img )\n",
        "    if(boxes[i,0,0,0]>=.3):\n",
        "        draw.rectangle( b , outline=\"yellow\" )\n",
        "        draw.text((boxes[i,0,0,1],boxes[i,0,0,2]),\"Face\",fill=(255,255,0))\n",
        "    source_img.save( './inference_images_1/image_{}.png'.format( i + 1 ) , 'png' )"
      ],
      "execution_count": null,
      "outputs": []
    },
    {
      "cell_type": "code",
      "metadata": {
        "id": "PpuKkX_SVxFK"
      },
      "source": [
        "mkdir inference_images_1"
      ],
      "execution_count": null,
      "outputs": []
    },
    {
      "cell_type": "code",
      "metadata": {
        "id": "di8uLaOjV0Lp"
      },
      "source": [
        "images = []\n",
        "image_paths = glob.glob( '/content/drive/My Drive/File with negative/Neg/*.bmp' ) # to add images \n",
        "for imagefile in image_paths:\n",
        "    image = Image.open( imagefile ).resize((input_dim,input_dim))\n",
        "    image = np.asarray( image )/255\n",
        "    images.append( image )"
      ],
      "execution_count": null,
      "outputs": []
    },
    {
      "cell_type": "code",
      "metadata": {
        "id": "fYRFg_X2v44S"
      },
      "source": [
        "X_test_neg = np.array( images )"
      ],
      "execution_count": null,
      "outputs": []
    },
    {
      "cell_type": "code",
      "metadata": {
        "id": "CxBrVs22x3OD"
      },
      "source": [
        "for i in range(10):\n",
        "    b = boxes[ i , 0 , 0 , 1 : 5 ] * input_dim\n",
        "    img = X_test_neg[i] * 255\n",
        "    source_img = Image.fromarray( img.astype( np.uint8 ) , 'RGB' )\n",
        "    draw = ImageDraw.Draw( source_img )\n",
        "    if(boxes[i,0,0,0]>=.35):\n",
        "        draw.rectangle( b , outline=\"yellow\" )\n",
        "        draw.text((boxes[i,0,0,1],boxes[i,0,0,2]),\"Face\",fill=(255,255,0))\n",
        "    source_img.save( './inference_images_1/image_{}.png'.format( i + 10 ) , 'png' )"
      ],
      "execution_count": null,
      "outputs": []
    },
    {
      "cell_type": "code",
      "metadata": {
        "id": "f-if6_C6b2kv"
      },
      "source": [
        "import cv2"
      ],
      "execution_count": null,
      "outputs": []
    },
    {
      "cell_type": "code",
      "metadata": {
        "id": "iWPA-1GKawsi",
        "outputId": "a9c6ec80-c3b5-4a0c-b134-5a50fc051bab",
        "colab": {
          "base_uri": "https://localhost:8080/",
          "height": 245
        }
      },
      "source": [
        "from PIL import Image\n",
        "im = Image.open(r'/content/inference_images_1/image_3.png')\n",
        "im"
      ],
      "execution_count": null,
      "outputs": [
        {
          "output_type": "execute_result",
          "data": {
            "image/png": "[encoded data removed]",
            "text/plain": [
              "<PIL.PngImagePlugin.PngImageFile image mode=RGB size=228x228 at 0x7F08C86C6898>"
            ]
          },
          "metadata": {
            "tags": []
          },
          "execution_count": 69
        }
      ]
    },
    {
      "cell_type": "code",
      "metadata": {
        "id": "WunyoRg-bQ-S",
        "outputId": "9cbd6c22-5b7c-48ac-c299-af5d01202f76",
        "colab": {
          "base_uri": "https://localhost:8080/",
          "height": 245
        }
      },
      "source": [
        "im = Image.open(r'/content/inference_images_1/image_12.png')\n",
        "im"
      ],
      "execution_count": null,
      "outputs": [
        {
          "output_type": "execute_result",
          "data": {
            "image/png": "[encoded data removed]",
            "text/plain": [
              "<PIL.PngImagePlugin.PngImageFile image mode=RGB size=228x228 at 0x7F08C86C62B0>"
            ]
          },
          "metadata": {
            "tags": []
          },
          "execution_count": 71
        }
      ]
    },
    {
      "cell_type": "code",
      "metadata": {
        "id": "sMt7GD5ic0y6"
      },
      "source": [],
      "execution_count": null,
      "outputs": []
    }
  ]
}